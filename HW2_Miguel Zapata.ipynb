{
 "cells": [
  {
   "cell_type": "code",
   "execution_count": 2,
   "metadata": {},
   "outputs": [],
   "source": [
    "import sympy as sp\n",
    "from sympy import *\n",
    "import math \n"
   ]
  },
  {
   "cell_type": "markdown",
   "metadata": {},
   "source": [
    "## Find the solutions of \n",
    "$$\n",
    "f (x) = 3x^4 − x^3 − 10x^2 − 2x + 4 = 0. \n",
    "$$"
   ]
  },
  {
   "cell_type": "code",
   "execution_count": 3,
   "metadata": {},
   "outputs": [
    {
     "name": "stdout",
     "output_type": "stream",
     "text": [
      "\\left[ -1, \\  2, \\  - \\frac{1}{3} + \\frac{\\sqrt{7}}{3}, \\  - \\frac{\\sqrt{7}}{3} - \\frac{1}{3}\\right]\n"
     ]
    }
   ],
   "source": [
    "# first, we need to define the variable \n",
    "x = sp.symbols('x')\n",
    "\n",
    "# The equation to solve\n",
    "f = 3*x**4 - x**3 - 10*x**2 - 2*x + 4\n",
    "\n",
    "# Solve the equation\n",
    "solutions =((sp.solve(f, x)))\n",
    "\n",
    "# the solutions \n",
    "print(latex(solutions))\n",
    "\n"
   ]
  },
  {
   "cell_type": "markdown",
   "metadata": {},
   "source": [
    "## the solutions are \n",
    "$$\n",
    "\\left[ -1, \\  2, \\  - \\frac{1}{3} + \\frac{\\sqrt{7}}{3}, \\  - \\frac{\\sqrt{7}}{3} - \\frac{1}{3}\\right]\n",
    "$$"
   ]
  },
  {
   "cell_type": "markdown",
   "metadata": {},
   "source": [
    "## (2) Mostrar que \n",
    "$$\n",
    "\\tan(A \\pm B ) =\\frac{ \\left(\\tan(A) \\pm \\tan(B) \\right)}{(1 \\mp \\tan(A)  \\tan(B))}\n",
    "\n",
    "\n",
    "$$\n",
    "\n",
    "$$\n",
    "\\cos(C) + \\cos(D) = 2 \\cos(\\frac{C + D}{2}) \\cos(\\frac{C-D}{2}) \n",
    "$$"
   ]
  },
  {
   "cell_type": "code",
   "execution_count": 4,
   "metadata": {},
   "outputs": [
    {
     "name": "stdout",
     "output_type": "stream",
     "text": [
      "Simplified difference for the first choice of sign----> 0\n",
      "Simplified difference for the second choice of sign---> 0\n",
      "Identity holds for the first choice of sign -----> True\n",
      "Identity holds for the second choice of sign -----> True\n"
     ]
    }
   ],
   "source": [
    "# the need to prove for the both cases with opposite sign, \n",
    "\n",
    "# Variables \n",
    "A, B = sp.symbols('A B')\n",
    "\n",
    "# left hand side (LHS) \n",
    "lhs1 = sp.tan(A + B)\n",
    "\n",
    "# right-hand side (RHS)\n",
    "rhs1 = (sp.tan(A) + sp.tan(B)) / (1 - sp.tan(A) * sp.tan(B))\n",
    "\n",
    "# difference between LHS and RHS\n",
    "diff1 = sp.simplify(lhs1 - rhs1)\n",
    "\n",
    "\n",
    "# left hand side (LHS) \n",
    "lhs2 = sp.tan(A - B)\n",
    "\n",
    "# right-hand side (RHS)\n",
    "rhs2  = (sp.tan(A) - sp.tan(B)) / (1 + sp.tan(A) * sp.tan(B))\n",
    "\n",
    "# difference between LHS and RHS\n",
    "diff1 = sp.simplify(lhs1 - rhs1)\n",
    "diff2 = sp.simplify(lhs2- rhs2)\n",
    "\n",
    "\n",
    "\n",
    "# Print result\n",
    "print(\"Simplified difference for the first choice of sign---->\", diff1)\n",
    "# Print result\n",
    "print(\"Simplified difference for the second choice of sign--->\", diff2)\n",
    "\n",
    "\n",
    "print(\"Identity holds for the first choice of sign ----->\", diff1 == 0)\n",
    "\n",
    "\n",
    "print(\"Identity holds for the second choice of sign ----->\", diff2 == 0)\n"
   ]
  },
  {
   "cell_type": "code",
   "execution_count": 5,
   "metadata": {},
   "outputs": [
    {
     "name": "stdout",
     "output_type": "stream",
     "text": [
      "Simplified difference ----> 0\n",
      "Identity holds  -----> True\n"
     ]
    }
   ],
   "source": [
    "# Variables \n",
    "C, D = sp.symbols('C D')\n",
    "\n",
    "# left hand side (LHS) \n",
    "lhs1 = sp.cos(C) + sp.cos(D) \n",
    "\n",
    "# right-hand side (RHS)\n",
    "rhs1 = 2*sp.cos((C+D)/2)*cos((C-D)/2)\n",
    "# difference between LHS and RHS\n",
    "diff1 = sp.simplify(lhs1 - rhs1)\n",
    "\n",
    "\n",
    "diff1 = sp.simplify(lhs1 - rhs1)\n",
    "\n",
    "print(\"Simplified difference ---->\", diff1)\n",
    "\n",
    "print(\"Identity holds  ----->\", diff1 == 0)\n"
   ]
  },
  {
   "cell_type": "markdown",
   "metadata": {},
   "source": [
    "## Expresar en forma de fracciones parciales\n",
    "\n",
    "$$\n",
    "\\frac{(4x + 2)}{(x^2 + 3x + 2)}, \\, \\frac{x^3 + 3x^2 + 2x − 1}{ x^2 − x − 6}\n",
    "\n",
    "$$"
   ]
  },
  {
   "cell_type": "code",
   "execution_count": 6,
   "metadata": {},
   "outputs": [
    {
     "name": "stdout",
     "output_type": "stream",
     "text": [
      "Partial fraction decomposition is -----> \\frac{6}{x + 2} - \\frac{2}{x + 1}\n"
     ]
    }
   ],
   "source": [
    "x = sp.symbols('x')\n",
    "\n",
    "\n",
    "expr = (4*x + 2) / (x**2 + 3*x + 2)\n",
    "\n",
    "expr1 = sp.apart(expr, x)\n",
    "\n",
    "# Print result\n",
    "print(\"Partial fraction decomposition is ----->\", latex(expr1))"
   ]
  },
  {
   "cell_type": "markdown",
   "metadata": {},
   "source": [
    "## the result is $\\frac{6}{x + 2} - \\frac{2}{x + 1}$"
   ]
  },
  {
   "cell_type": "code",
   "execution_count": 7,
   "metadata": {},
   "outputs": [
    {
     "name": "stdout",
     "output_type": "stream",
     "text": [
      "Partial fraction decomposition is -----> x + 4 + \\frac{1}{5 \\left(x + 2\\right)} + \\frac{59}{5 \\left(x - 3\\right)}\n"
     ]
    }
   ],
   "source": [
    "expr2 = (x**3 + 3*x**2 + 2*x -1) / (x**2 -x - 6)\n",
    "\n",
    "expr2 = sp.apart(expr2, x)\n",
    "\n",
    "# Print result\n",
    "print(\"Partial fraction decomposition is ----->\", latex(expr2))"
   ]
  },
  {
   "cell_type": "markdown",
   "metadata": {},
   "source": [
    "## the result is $x + 4 + \\frac{1}{5 \\left(x + 2\\right)} + \\frac{59}{5 \\left(x - 3\\right)}$"
   ]
  },
  {
   "cell_type": "markdown",
   "metadata": {},
   "source": [
    "## (4) Probar que \n",
    "$$\n",
    "\\sum_{1}^n i^2 = \\frac{1}{6} n (n+1) (2n +1)\n",
    "\n",
    "$$"
   ]
  },
  {
   "cell_type": "code",
   "execution_count": 8,
   "metadata": {},
   "outputs": [
    {
     "name": "stdout",
     "output_type": "stream",
     "text": [
      "Summation difference is ---->: 0\n",
      "Summation identity is ----->: True\n"
     ]
    }
   ],
   "source": [
    "\n",
    "n = symbols('n')\n",
    "\n",
    "# define the summation \n",
    "sum_expr = summation(n**2, (n, 1, n))\n",
    "\n",
    "# Define the formula \n",
    "formula = (1/6) * n * (n + 1) * (2*n + 1)\n",
    "\n",
    "sum_diff = simplify(sum_expr - formula)\n",
    "\n",
    "\n",
    "print(\"Summation difference is ---->:\", sum_diff)\n",
    "print(\"Summation identity is ----->:\", sum_diff == 0)"
   ]
  },
  {
   "cell_type": "markdown",
   "metadata": {},
   "source": [
    "## (5) Encontrar la derivada de \n",
    "$$\n",
    "y = (3+x^2)^3\n",
    "$$\n",
    "\n",
    "\n",
    "$$\n",
    "    x^3 - 3xy + y^3 = 2,\n",
    "$$"
   ]
  },
  {
   "cell_type": "code",
   "execution_count": 9,
   "metadata": {},
   "outputs": [
    {
     "name": "stdout",
     "output_type": "stream",
     "text": [
      "The derivative of y with respect to x is ----> 6 x \\left(x^{2} + 3\\right)^{2}\n"
     ]
    }
   ],
   "source": [
    "\n",
    "x,y = symbols('x y ')\n",
    "\n",
    "\n",
    "y1 = (3 + x**2)**3\n",
    "\n",
    "\n",
    "# derivate \n",
    "dev1 = sp.diff(y1, x)\n",
    "\n",
    "# Print the result\n",
    "print(\"The derivative of y with respect to x is ---->\",latex(dev1))\n"
   ]
  },
  {
   "cell_type": "code",
   "execution_count": 10,
   "metadata": {},
   "outputs": [
    {
     "name": "stdout",
     "output_type": "stream",
     "text": [
      "The derivative of y  repecto to x is ----> \\frac{x^{2} - y}{x - y^{2}}\n"
     ]
    }
   ],
   "source": [
    "# now with implicit derivation \n",
    "eq = x**3 - 3*x*y + y**3 - 2\n",
    "\n",
    "# Compute the derivative of y with respect to x implicitly\n",
    "dev2 = sp.idiff(eq, y, x)\n",
    "\n",
    "# Print the result\n",
    "print(\"The derivative of y  repecto to x is ---->\", latex(dev2))\n"
   ]
  },
  {
   "cell_type": "markdown",
   "metadata": {},
   "source": [
    "## The result is $\\frac{x^{2} - y}{x - y^{2}}$"
   ]
  },
  {
   "cell_type": "markdown",
   "metadata": {},
   "source": [
    "## Encontrar los puntos críticos de f (x), y decir de que naturaleza son\n",
    "$$\n",
    "f (x) = 2x^3 − 3x^2 − 36x + 2. \n",
    "$$\n",
    "\n",
    "## To solve this exercise, remember the steps to know a critic point\n",
    "## -  Calculate the deruvate of f(x)\n",
    "## - Resolve for f'(x) = 0,\n",
    "## calculate the second derivate of f and check, if $f′′(x)>0$, it's a local minimum, if f′′(x)<0f′′(x)<0, it's a locam maximum or if $f′′(x)=0$ can be a turning point"
   ]
  },
  {
   "cell_type": "code",
   "execution_count": 11,
   "metadata": {},
   "outputs": [
    {
     "name": "stdout",
     "output_type": "stream",
     "text": [
      "Punto crítico en x = -2: Local maximum\n",
      "Punto crítico en x = 3: Local maximum\n"
     ]
    }
   ],
   "source": [
    "# define the function\n",
    "f = 2*x**3 - 3*x**2 - 36*x + 2\n",
    "\n",
    "# first derivate\n",
    "f_first = diff(f, x)\n",
    "\n",
    "# Solve for the derivate\n",
    "f_prim_0 = solve(f_first, x)\n",
    "\n",
    "# Now we need to calculate the second derivate \n",
    "f_dou= sp.diff(f_first, x)\n",
    "\n",
    "# check the nature of the point we the above conditions \n",
    "for point in f_prim_0:\n",
    "   f_doub_0 = f_dou.subs(x, point)\n",
    "    \n",
    "    #\n",
    "   if f_doub_0 > 0:\n",
    "        nature = \"Local minumum\"\n",
    "   elif f_doub_0 < 0:\n",
    "        N = \"Local maximum\"\n",
    "   else:\n",
    "        N = \"Turning point\"\n",
    "    \n",
    "\n",
    "   print(f\"Punto crítico en x = {point}: {N}\")"
   ]
  },
  {
   "cell_type": "markdown",
   "metadata": {},
   "source": [
    "# (7) Integrals "
   ]
  },
  {
   "cell_type": "code",
   "execution_count": 12,
   "metadata": {},
   "outputs": [
    {
     "name": "stdout",
     "output_type": "stream",
     "text": [
      "\\frac{x^{4}}{2} - x^{3} - 18 x^{2} + 2 x\n",
      "a \\left(\\begin{cases} - \\frac{\\log{\\left(\\cos{\\left(b x \\right)} \\right)}}{b} & \\text{for}\\: b \\neq 0 \\\\0 & \\text{otherwise} \\end{cases}\\right)\n",
      "\\frac{2 \\log{\\left(3 x + 1 \\right)}}{3}\n",
      "\\begin{cases} \\frac{1}{2 a^{2}} & \\text{for}\\: \\left(\\left|{\\arg{\\left(a \\right)}}\\right| < \\frac{\\pi}{2} \\wedge \\frac{1}{a^{2}} \\neq 0 \\wedge \\left|{\\arg{\\left(a \\right)}}\\right| \\neq \\frac{\\pi}{2}\\right) \\vee \\left|{\\arg{\\left(a \\right)}}\\right| < \\frac{\\pi}{2} \\\\\\int\\limits_{0}^{\\infty} \\frac{x}{\\left(a^{2} + x^{2}\\right)^{2}}\\, dx & \\text{otherwise} \\end{cases}\n"
     ]
    }
   ],
   "source": [
    "# a) \n",
    "a, b = symbols('a b ')\n",
    "f1 = sin(x)**5\n",
    "\n",
    "int1 = integrate(f, x)\n",
    "print(latex(int1))\n",
    "\n",
    "\n",
    "\n",
    "# b) \n",
    "\n",
    "f2 = a*tan(b*x) \n",
    "\n",
    "int2= integrate(f2, x)\n",
    "print(latex(int2))\n",
    "\n",
    "\n",
    "\n",
    "#c)\n",
    "\n",
    "f3 = 2/(1+3*x) \n",
    "\n",
    "int3 =  integrate(f3, x)\n",
    "print(latex(int3))\n",
    "\n",
    "\n",
    "# d) \n",
    "\n",
    "f4 = x / (x**2 + a**2)**2\n",
    "\n",
    "\n",
    "int4 = integrate(f4, (x, 0, oo))\n",
    "\n",
    "# Imprimir el resultado\n",
    "print(latex(int4)) \n",
    "\n",
    "\n"
   ]
  },
  {
   "cell_type": "markdown",
   "metadata": {},
   "source": [
    "$$\n",
    "\\int sin^5(x) dx = - \\frac{\\cos^{5}{\\left(x \\right)}}{5} + \\frac{2 \\cos^{3}{\\left(x \\right)}}{3} - \\cos{\\left(x \\right)}\n",
    "$$\n",
    "$$\n",
    "\\int a tan(bx) dx = a \\left(\\begin{cases} - \\frac{\\log{\\left(\\cos{\\left(b x \\right)} \\right)}}{b} & \\text{for}\\: b \\neq 0 \\\\0 & \\text{otherwise} \\end{cases}\\right)\n",
    "$$\n",
    "$$\n",
    "\\int(\\frac{2}{1+3x}dx) = \\frac{2 \\log{\\left(3 x + 1 \\right)}}{3}\n",
    "$$\n",
    "$$\n",
    "\\int_{0}^{\\infty}  \\frac{x}{(x^2+a^2)^2} dx = \\begin{cases} \\frac{1}{2 a^{2}} & \\text{for}\\: \\left(\\left|{\\arg{\\left(a \\right)}}\\right| < \\frac{\\pi}{2} \\wedge \\frac{1}{a^{2}} \\neq 0 \\wedge \\left|{\\arg{\\left(a \\right)}}\\right| \\neq \\frac{\\pi}{2}\\right) \\vee \\left|{\\arg{\\left(a \\right)}}\\right| < \\frac{\\pi}{2} \\\\\\int\\limits_{0}^{\\infty} \\frac{x}{\\left(a^{2} + x^{2}\\right)^{2}}\\, dx & \\text{otherwise} \\end{cases}"
   ]
  },
  {
   "cell_type": "markdown",
   "metadata": {},
   "source": []
  },
  {
   "cell_type": "code",
   "execution_count": 13,
   "metadata": {},
   "outputs": [
    {
     "name": "stdout",
     "output_type": "stream",
     "text": [
      "\\frac{\\sqrt{3} \\left(x - \\frac{\\pi}{3}\\right)^{3}}{12} - \\frac{\\left(x - \\frac{\\pi}{3}\\right)^{2}}{4} - \\frac{\\sqrt{3} \\left(x - \\frac{\\pi}{3}\\right)}{2} + \\frac{1}{2}\n",
      "\\frac{n x^{3} \\left(n - 2\\right) \\left(n - 1\\right)}{6} + \\frac{n x^{2} \\left(n - 1\\right)}{2} + n x + 1\n"
     ]
    }
   ],
   "source": [
    "\n",
    "# the functions \n",
    "\n",
    "f1 = cos(x)\n",
    "\n",
    "f2 = (1+x)**n\n",
    "\n",
    "# Around  x = pi/3\n",
    "f1_taylor = sp.series(f1, x, pi/3, 4).removeO() \n",
    "\n",
    "# around x = 0\n",
    "\n",
    "f2_taylor = sp.series(f2, x, 0, 4).removeO()\n",
    "\n",
    "\n",
    "\n",
    "\n",
    "\n",
    "\n",
    "print(latex(f1_taylor)) \n",
    "print(latex(f2_taylor))"
   ]
  },
  {
   "cell_type": "markdown",
   "metadata": {},
   "source": [
    "$$\n",
    "\\cos(x) \\approx \\frac{\\sqrt{3} \\left(x - \\frac{\\pi}{3}\\right)^{3}}{12} - \\frac{\\left(x - \\frac{\\pi}{3}\\right)^{2}}{4} - \\frac{\\sqrt{3} \\left(x - \\frac{\\pi}{3}\\right)}{2} + \\frac{1}{2} \\,  \\forall \\, |x| \\leq \\pi /3 ,\n",
    "$$\n",
    "\n",
    "$$\n",
    "\n",
    "f(1+x)^n \\approx \\frac{n x^{3} \\left(n - 2\\right) \\left(n - 1\\right)}{6} + \\frac{n x^{2} \\left(n - 1\\right)}{2} + n x + 1 \\, \\, x_0 = 0\n",
    "$$"
   ]
  },
  {
   "cell_type": "markdown",
   "metadata": {},
   "source": [
    "## Calcular\n",
    "\n",
    "$$\n",
    "\\lim_{x \\rightarrow \\infty } \\left(1 - \\frac{a^2}{x^2} \\right)^{x^2}\n",
    "$$"
   ]
  },
  {
   "cell_type": "code",
   "execution_count": 14,
   "metadata": {},
   "outputs": [
    {
     "name": "stdout",
     "output_type": "stream",
     "text": [
      "The limit is : e^{- a^{2}}\n"
     ]
    }
   ],
   "source": [
    "\n",
    "# function\n",
    "f_lim = (1 - a**2 / x**2)**(x**2)\n",
    "\n",
    "limit_result = limit(f_lim, x,oo)\n",
    "\n",
    "\n",
    "# Imprimir el resultado\n",
    "print(\"The limit is :\", latex( limit_result))"
   ]
  },
  {
   "cell_type": "markdown",
   "metadata": {},
   "source": [
    "\n",
    "$$\n",
    "\\lim_{x \\rightarrow \\infty } \\left(1 - \\frac{a^2}{x^2} \\right)^{x^2} = e^{- a^{2}}\n",
    "$$\n"
   ]
  },
  {
   "cell_type": "markdown",
   "metadata": {},
   "source": [
    "### 2nd file: \n",
    "## (1) Encontrar el area del paralelogramo que forman los vectores\n",
    "\n",
    "$$\n",
    "\\vec{a} = \\hat{i} + 2 \\hat{j} + 3 \\hat{k}, \\, \\, b = 4\\hat{i} + 5\\hat{j} + 6\\hat{k}\n",
    "$$"
   ]
  },
  {
   "cell_type": "code",
   "execution_count": 29,
   "metadata": {},
   "outputs": [
    {
     "name": "stdout",
     "output_type": "stream",
     "text": [
      "The are of the parallelogram is  -----> 3*sqrt(6)\n"
     ]
    }
   ],
   "source": [
    "from sympy.vector import *\n",
    "\n",
    "\n",
    "R = CoordSys3D('R')\n",
    "\n",
    "# vecotors\n",
    "a = R.i + 2*R.j + 3*R.k\n",
    "b = 4*R.i + 5*R.j + 6*R.k\n",
    "\n",
    "# cross product \n",
    "cross_p = cross(a, b)\n",
    "\n",
    "# magnitud of the cross product \n",
    "Mag = cross_p.magnitude()\n",
    "\n",
    "# Imprimir el resultado\n",
    "print(\"The are of the parallelogram is  ----->\", Mag)"
   ]
  },
  {
   "cell_type": "markdown",
   "metadata": {},
   "source": [
    "## (2)Encontrar D= A+2B-C"
   ]
  },
  {
   "cell_type": "code",
   "execution_count": 16,
   "metadata": {},
   "outputs": [
    {
     "name": "stdout",
     "output_type": "stream",
     "text": [
      "The result is \\left[\\begin{matrix}6 & -2\\\\4 & -4\\end{matrix}\\right]\n"
     ]
    }
   ],
   "source": [
    "# the three matrixs are \n",
    "A = Matrix([ [2, -1], [3, 1] ])\n",
    "\n",
    "B = Matrix([ [1, 0], [0, -2] ])\n",
    "\n",
    "C = Matrix([ [-2, 1], [-1, 1]])\n",
    "\n",
    "# now\n",
    "D = A + 2 * B - C\n",
    "\n",
    "\n",
    "print(\"The result is\",latex(D))"
   ]
  },
  {
   "cell_type": "markdown",
   "metadata": {},
   "source": [
    "$$\n",
    " A + 2 B - C = \\left[\\begin{matrix}6 & -2\\\\4 & -4\\end{matrix}\\right] \n",
    "$$"
   ]
  },
  {
   "cell_type": "code",
   "execution_count": 17,
   "metadata": {},
   "outputs": [
    {
     "name": "stdout",
     "output_type": "stream",
     "text": [
      "Matrix P = AB:\n",
      "\\left[\\begin{matrix}5 & -6 & 8\\\\9 & 7 & 2\\\\11 & 3 & 7\\end{matrix}\\right]\n",
      "\n",
      "Matrix Q = BA:\n",
      "\\left[\\begin{matrix}9 & -11 & 6\\\\3 & 5 & 1\\\\10 & 9 & 5\\end{matrix}\\right]\n"
     ]
    }
   ],
   "source": [
    "# Matrix\n",
    "A = Matrix([\n",
    "    [3, 2, -1],\n",
    "    [0, 3, 2],\n",
    "    [1, -3, 4]\n",
    "])\n",
    "\n",
    "B = Matrix([\n",
    "    [2, -2, 3],\n",
    "    [1, 1, 0],\n",
    "    [3, 2, 1]\n",
    "])\n",
    "\n",
    "# calculate the product \n",
    "P = A*B\n",
    "\n",
    "# second product \n",
    "Q =B*A\n",
    "\n",
    "\n",
    "print(\"Matrix P = AB:\")\n",
    "print(latex(P))\n",
    "\n",
    "print(\"\\nMatrix Q = BA:\")\n",
    "print(latex(Q))"
   ]
  },
  {
   "cell_type": "markdown",
   "metadata": {},
   "source": [
    "$$\n",
    "P = AB: \\left[\\begin{matrix}5 & -6 & 8\\\\9 & 7 & 2\\\\11 & 3 & 7\\end{matrix}\\right]\n",
    "$$\n",
    "\n",
    "$$\n",
    "Q = BA: \\left[\\begin{matrix}9 & -11 & 6\\\\3 & 5 & 1\\\\10 & 9 & 5\\end{matrix}\\right]\n",
    "\n",
    "$$"
   ]
  },
  {
   "cell_type": "markdown",
   "metadata": {},
   "source": []
  },
  {
   "cell_type": "code",
   "execution_count": 18,
   "metadata": {},
   "outputs": [
    {
     "name": "stdout",
     "output_type": "stream",
     "text": [
      "Matriz original A:\n",
      "Matrix([[3, 1, 2], [0, 4, 1]])\n",
      "\n",
      "Transpuesta de A:\n",
      "\\left[\\begin{matrix}3 & 0\\\\1 & 4\\\\2 & 1\\end{matrix}\\right]\n"
     ]
    }
   ],
   "source": [
    "A = Matrix([[3, 1, 2], [0, 4, 1] ])\n",
    "\n",
    "\n",
    "A_trans = A.T\n",
    "\n",
    "\n",
    "print(\"Matriz original A:\")\n",
    "print(A)\n",
    "print(\"\\nTranspuesta de A:\")\n",
    "print(latex(A_trans))"
   ]
  },
  {
   "cell_type": "markdown",
   "metadata": {},
   "source": [
    "$$\n",
    "A^T = \\left[\\begin{matrix}3 & 0\\\\1 & 4\\\\2 & 1\\end{matrix}\\right]\n",
    "$$"
   ]
  },
  {
   "cell_type": "code",
   "execution_count": 19,
   "metadata": {},
   "outputs": [
    {
     "name": "stdout",
     "output_type": "stream",
     "text": [
      "Complejo conjugado de A:\n",
      "\\left[\\begin{matrix}1 & 2 & - 3 i\\\\1 - i & 1 & 0\\end{matrix}\\right]\n"
     ]
    }
   ],
   "source": [
    "#Matrix \n",
    "A = sp.Matrix([ [1, 2, 3*I], [1 + I, 1, 0]])\n",
    "\n",
    "# Conugado\n",
    "A_conj = A.conjugate()\n",
    "\n",
    "\n",
    "\n",
    "print(\"Complejo conjugado de A:\")\n",
    "\n",
    "\n",
    "pprint(latex(A_conj))"
   ]
  },
  {
   "cell_type": "markdown",
   "metadata": {},
   "source": [
    "$$\n",
    "A^* = \\left[\\begin{matrix}1 & 2 & - 3 i\\\\1 - i & 1 & 0\\end{matrix}\\right]\n",
    "$$"
   ]
  },
  {
   "cell_type": "code",
   "execution_count": 20,
   "metadata": {},
   "outputs": [
    {
     "name": "stdout",
     "output_type": "stream",
     "text": [
      "El determinante de la matriz A es: 0\n"
     ]
    }
   ],
   "source": [
    "\n",
    "A = Matrix([ [1, 0, 2, 3],  [0, 1, -2, 1],  [3, -3, 4, -2],  [-2, 1, -2, -1] ])\n",
    "\n",
    "# Determinante\n",
    "dete = A.det()\n",
    "\n",
    "print(\"El determinante de la matriz A es:\", latex(dete))"
   ]
  },
  {
   "cell_type": "code",
   "execution_count": 21,
   "metadata": {},
   "outputs": [
    {
     "name": "stdout",
     "output_type": "stream",
     "text": [
      "The inverse matrix is \\left[\\begin{matrix}\\frac{2}{11} & \\frac{1}{11} & - \\frac{2}{11}\\\\\\frac{4}{11} & \\frac{13}{11} & \\frac{7}{11}\\\\- \\frac{3}{11} & - \\frac{18}{11} & - \\frac{8}{11}\\end{matrix}\\right]\n"
     ]
    }
   ],
   "source": [
    "A =  Matrix ([[2,4,3],[1,-2,-2],[-3,3,2]])\n",
    "\n",
    "A_inv = A.inv()\n",
    "\n",
    "print(\"The inverse matrix is\",latex(A_inv))"
   ]
  },
  {
   "cell_type": "markdown",
   "metadata": {},
   "source": [
    "$$\n",
    "\n",
    "A^{-1} = \\left[\\begin{matrix}\\frac{2}{11} & \\frac{1}{11} & - \\frac{2}{11}\\\\\\frac{4}{11} & \\frac{13}{11} & \\frac{7}{11}\\\\- \\frac{3}{11} & - \\frac{18}{11} & - \\frac{8}{11}\\end{matrix}\\right]\n",
    "$$"
   ]
  },
  {
   "cell_type": "code",
   "execution_count": 22,
   "metadata": {},
   "outputs": [
    {
     "name": "stdout",
     "output_type": "stream",
     "text": [
      "Eigenvalores:\n",
      "Eigenvalor: 3, Multiplicidad: 1\n",
      "Eigenvalor: 2, Multiplicidad: 1\n",
      "Eigenvalor: -6, Multiplicidad: 1\n"
     ]
    }
   ],
   "source": [
    "A = Matrix([[1,1,3],[1,1,-3],[3,-3,-3]])\n",
    "\n",
    "eigenvals = A.eigenvals()\n",
    "eigenvects = A.eigenvects()\n",
    "\n",
    "# Eivenvalues and check the norm \n",
    "print(\"Eigenvalores:\")\n",
    "for eigenval, multiplicity in eigenvals.items():\n",
    "    print(f\"Eigenvalor: {eigenval}, Multiplicidad: {multiplicity}\")\n"
   ]
  },
  {
   "cell_type": "code",
   "execution_count": 23,
   "metadata": {},
   "outputs": [
    {
     "name": "stdout",
     "output_type": "stream",
     "text": [
      "\n",
      "Eigenvectores normalizados:\n",
      "Eigenvalor: -6\n",
      "Eigenvector normalizado: \\left[\\begin{matrix}- \\frac{\\sqrt{6}}{6}\\\\\\frac{\\sqrt{6}}{6}\\\\\\frac{\\sqrt{6}}{3}\\end{matrix}\\right]\n",
      "Eigenvalor: 2\n",
      "Eigenvector normalizado: \\left[\\begin{matrix}\\frac{\\sqrt{2}}{2}\\\\\\frac{\\sqrt{2}}{2}\\\\0\\end{matrix}\\right]\n",
      "Eigenvalor: 3\n",
      "Eigenvector normalizado: \\left[\\begin{matrix}\\frac{\\sqrt{3}}{3}\\\\- \\frac{\\sqrt{3}}{3}\\\\\\frac{\\sqrt{3}}{3}\\end{matrix}\\right]\n"
     ]
    }
   ],
   "source": [
    "# Eigenvectors\n",
    "print(\"\\nEigenvectores normalizados:\")\n",
    "for eigenvect in eigenvects:\n",
    "    eigenval, multiplicity, vectors = eigenvect\n",
    "    print(f\"Eigenvalor: {latex(eigenval)}\")\n",
    "    for v in vectors:\n",
    "        normalized_v = v.normalized()  # Normalizar el eigenvector\n",
    "        print(f\"Eigenvector normalizado: {latex(normalized_v)}\")"
   ]
  },
  {
   "cell_type": "markdown",
   "metadata": {},
   "source": [
    "# the eigenvectors are \n",
    "\n",
    "$$\n",
    "\\vec{u}_1 = \\left[\\begin{matrix}- \\frac{\\sqrt{6}}{6}\\\\\\frac{\\sqrt{6}}{6}\\\\\\frac{\\sqrt{6}}{3}\\end{matrix}\\right]\n",
    "$$\n",
    "\n",
    "$$\n",
    "\\vec{u}_2 =  \\left[\\begin{matrix}\\frac{\\sqrt{2}}{2}\\\\\\frac{\\sqrt{2}}{2}\\\\0\\end{matrix}\\right]\n",
    "$$\n",
    "\n",
    "$$\n",
    "\\vec{u}_3 = \\left[\\begin{matrix}\\frac{\\sqrt{3}}{3}\\\\- \\frac{\\sqrt{3}}{3}\\\\\\frac{\\sqrt{3}}{3}\\end{matrix}\\right]\n",
    "\n",
    "$$"
   ]
  },
  {
   "cell_type": "code",
   "execution_count": 24,
   "metadata": {},
   "outputs": [
    {
     "name": "stdout",
     "output_type": "stream",
     "text": [
      "The solutions are  \n",
      "x_1 = 2\n",
      "x_2 = -3\n",
      "x_3 = 4\n"
     ]
    }
   ],
   "source": [
    "#  Variables \n",
    "x1, x2, x3 = symbols('x1 x2 x3')\n",
    "\n",
    "# system of equations\n",
    "eq1 = Eq(2*x1 + 4*x2 + 3*x3, 4)\n",
    "eq2 = Eq(x1 - 2*x2 - 2*x3, 0)\n",
    "eq3 = Eq(-3*x1 + 3*x2 + 2*x3, -7)\n",
    "\n",
    "# Solve for each variable \n",
    "solucion = solve((eq1, eq2, eq3), (x1, x2, x3))\n",
    "\n",
    "\n",
    "print(\"The solutions are  \")\n",
    "print(f\"x_1 = {solucion[x1]}\")\n",
    "print(f\"x_2 = {solucion[x2]}\")\n",
    "print(f\"x_3 = {solucion[x3]}\")"
   ]
  },
  {
   "cell_type": "markdown",
   "metadata": {},
   "source": [
    "## File 3: Calcular el gradiente\n",
    "$$\n",
    "\\phi = x y^2 z^2,\n",
    "$$"
   ]
  },
  {
   "cell_type": "code",
   "execution_count": 25,
   "metadata": {},
   "outputs": [
    {
     "name": "stdout",
     "output_type": "stream",
     "text": [
      "The gradient is ----->  \\left[\\begin{matrix}y^{2} z^{2}\\\\2 x y z^{2}\\\\2 x y^{2} z\\end{matrix}\\right]\n"
     ]
    }
   ],
   "source": [
    "# symbols \n",
    "x, y, z = symbols('x y z')\n",
    "\n",
    "# function\n",
    "phi = x * y**2 * z**2\n",
    "\n",
    "# Gradiente \n",
    "grad = Matrix([diff(phi, var) for var in (x, y, z)])\n",
    "\n",
    "print(\"The gradient is -----> \",latex(grad))"
   ]
  },
  {
   "cell_type": "markdown",
   "metadata": {},
   "source": [
    "$$\n",
    "\\nabla \\phi = \\left[\\begin{matrix}y^{2} z^{2}\\\\2 x y z^{2}\\\\2 x y^{2} z\\end{matrix}\\right]\n",
    "$$"
   ]
  },
  {
   "cell_type": "code",
   "execution_count": 26,
   "metadata": {},
   "outputs": [
    {
     "name": "stdout",
     "output_type": "stream",
     "text": [
      "La divergencia del campo vectorial es: 2 x^{2} z + 2 x y^{2} + 2 y z^{2}\n"
     ]
    }
   ],
   "source": [
    "# funcion of a = P i + Q j + R z \n",
    "P, Q , R = x**2 * y**2 ,   y**2 * z**2  , x**2 * z**2    \n",
    "\n",
    "# divergence \n",
    "a_div = diff(P, x) + diff(Q, y) + diff(R, z)\n",
    "\n",
    "# Imprimir el resultado\n",
    "print(\"La divergencia del campo vectorial es:\", latex(a_div))"
   ]
  },
  {
   "cell_type": "markdown",
   "metadata": {},
   "source": [
    "$$\n",
    "\\nabla \\cdot \\vec{a} = 2 x^{2} z + 2 x y^{2} + 2 y z^{2}\n",
    "$$"
   ]
  },
  {
   "cell_type": "code",
   "execution_count": 27,
   "metadata": {},
   "outputs": [
    {
     "name": "stdout",
     "output_type": "stream",
     "text": [
      "El Laplaciano de phi(x, y, z) es: 6 x y^{2} z + 2 x z^{3}\n"
     ]
    }
   ],
   "source": [
    "# (3) Calcular el Laplaciano\n",
    "\n",
    "phi = x* y**2 * z**3\n",
    "f_lap = phi\n",
    "lapla = diff(f_lap, x, x) + diff(f_lap, y, y) + diff(f_lap, z, z)\n",
    "\n",
    "# Imprimir el resultado\n",
    "print(\"El Laplaciano de phi(x, y, z) es:\", latex(lapla))\n",
    "\n",
    "\n",
    "\n"
   ]
  },
  {
   "cell_type": "markdown",
   "metadata": {},
   "source": [
    "$$\n",
    "\n",
    "\\nabla^2 \\phi =   6 x y^{2} z + 2 x z^{3}\n",
    "$$"
   ]
  },
  {
   "cell_type": "code",
   "execution_count": 30,
   "metadata": {},
   "outputs": [
    {
     "name": "stdout",
     "output_type": "stream",
     "text": [
      "The equality is satisfied if it's equal to zero vecto ---------> 0\n"
     ]
    }
   ],
   "source": [
    "phi = Function('phi')\n",
    "\n",
    "\n",
    "A, B,  C = symbols('A B C ')\n",
    "a = A*R.i + B*R.j + C*R.k\n",
    "\n",
    "a_div = diff(A, x) + diff(B, y) + diff(C, z)\n",
    "phi_grad = diff(phi, x)*R.i + diff(phi,y)*R.j + diff(phi,z)* R.k\n",
    "\n",
    "cross_phi_a = cross(phi_grad,a)\n",
    "\n",
    "rot_phi_a = curl(phi(x,y,z)*a) \n",
    "sec_term= cross(phi_grad,a) \n",
    "ther_term = phi(x,y,z,)*curl(a)\n",
    "\n",
    "\n",
    "\n",
    "equality = cross_phi_a - sec_term - ther_term\n",
    "\n",
    "print(\"The equality is satisfied if it's equal to zero vecto --------->\", equality)"
   ]
  },
  {
   "cell_type": "code",
   "execution_count": 31,
   "metadata": {},
   "outputs": [
    {
     "name": "stdout",
     "output_type": "stream",
     "text": [
      " The result is  ------> 0\n"
     ]
    }
   ],
   "source": [
    "\n",
    "\n",
    "# Define the scalar functions phi and psi\n",
    "phi = sp.Function('phi')(x, y, z)\n",
    "psi = sp.Function('psi')(x, y, z)\n",
    "\n",
    "# Compute the gradients of phi and psi\n",
    "grad_phi = Matrix([diff(phi, x), diff(phi, y), diff(phi, z)])\n",
    "grad_psi = Matrix([diff(psi, x), diff(psi, y), diff(psi, z)])\n",
    "\n",
    "# Compute the cross product of the gradients\n",
    "cross_product = grad_phi.cross(grad_psi)\n",
    "\n",
    "# Compute the divergence of the cross product\n",
    "divergence = diff(cross_product[0], x) + diff(cross_product[1], y) + diff(cross_product[2], z)\n",
    "\n",
    "# Simplify the divergence\n",
    "simplified_divergence = simplify(divergence)\n",
    "\n",
    "# Print the result\n",
    "print(\" The result is  ------>\", simplified_divergence)"
   ]
  },
  {
   "cell_type": "code",
   "execution_count": null,
   "metadata": {},
   "outputs": [
    {
     "name": "stdout",
     "output_type": "stream",
     "text": [
      "The volume is ----> 3\n"
     ]
    }
   ],
   "source": [
    "\n",
    "#   The vectors: \n",
    "a = sp.Matrix([1, 2, 3])\n",
    "b = sp.Matrix([4, 5, 6])\n",
    "c = sp.Matrix([7, 8, 10])\n",
    "\n",
    "# Cross product b × c\n",
    "cross_product = b.cross(c)\n",
    "\n",
    "# dot product with b \n",
    "triple_scalar_product = a.dot(cross_product)\n",
    "\n",
    "# The volumen \n",
    "volumen = abs(triple_scalar_product)\n",
    "\n",
    "\n",
    "print(\"The volume is ---->\", volumen)"
   ]
  },
  {
   "cell_type": "code",
   "execution_count": 33,
   "metadata": {},
   "outputs": [
    {
     "name": "stdout",
     "output_type": "stream",
     "text": [
      "Serie de Fourier:\n",
      "\\sum_{n=1}^{\\infty} \\left(\\frac{16.0 \\left(-1\\right)^{n} \\cos{\\left(\\frac{\\pi n x}{2} \\right)}}{\\pi^{2} n^{2}} + \\left(- \\frac{8.0 \\left(-1\\right)^{n}}{\\pi n} + \\frac{16.0 \\left(-1\\right)^{n}}{\\pi^{3} n^{3}} - \\frac{16.0}{\\pi^{3} n^{3}}\\right) \\sin{\\left(\\frac{\\pi n x}{2} \\right)}\\right) + 1.33333333333333\n"
     ]
    }
   ],
   "source": [
    "# for the function\n",
    "x = sp.symbols('x')\n",
    "f = x**2\n",
    "\n",
    "# for the limits \n",
    "L = 2  # Longitud del intervalo\n",
    "\n",
    "# first coeffient a0\n",
    "a0 = (2 / L) * sp.integrate(f, (x, 0, L))\n",
    "\n",
    "# an coefficient\n",
    "n = sp.symbols('n', integer=True, positive=True)\n",
    "an = (2 / L) * sp.integrate(f * sp.cos(n * sp.pi * x / L), (x, 0, L))\n",
    "\n",
    "# bn coefficient \n",
    "bn = (2 / L) * sp.integrate(f * sp.sin(n * sp.pi * x / L), (x, 0, L))\n",
    "\n",
    "# substituing for the Fouier formula\n",
    "fourier_series = a0 / 2 + sp.Sum(an * sp.cos(n * sp.pi * x / L) + bn * sp.sin(n * sp.pi * x / L), (n, 1, sp.oo))\n",
    "\n",
    "\n",
    "print(\"Serie de Fourier:\")\n",
    "print(latex(fourier_series))"
   ]
  },
  {
   "cell_type": "markdown",
   "metadata": {},
   "source": [
    "$$\n",
    "x^2 = \\frac{4}{3} + \n",
    "\\sum_{n=1}^{\\infty} \\left(\\frac{16.0 \\left(-1\\right)^{n} \\cos{\\left(\\frac{\\pi n x}{2} \\right)}}{\\pi^{2} n^{2}} + \\left(- \\frac{8.0 \\left(-1\\right)^{n}}{\\pi n} + \\frac{16.0 \\left(-1\\right)^{n}}{\\pi^{3} n^{3}} - \\frac{16.0}{\\pi^{3} n^{3}}\\right) \\sin{\\left(\\frac{\\pi n x}{2} \\right)}\\right) \n",
    "$$"
   ]
  },
  {
   "cell_type": "code",
   "execution_count": 34,
   "metadata": {},
   "outputs": [
    {
     "name": "stdout",
     "output_type": "stream",
     "text": [
      "The Fourier transform of  f(t) is ----> \\frac{\\sqrt{2} \\mathcal{F}_{t}\\left[e^{- \\frac{t^{2}}{2 \\tau^{2}}}\\right]\\left(\\omega\\right)}{2 \\sqrt{\\pi} \\tau}\n"
     ]
    }
   ],
   "source": [
    "## (7)\n",
    "\n",
    "\n",
    "t, omega, tau = symbols('t omega tau', real=True)\n",
    "\n",
    "# define the function\n",
    "f = (1 / (tau * sqrt(2 * pi))) * exp(-t**2 / (2 * tau**2))\n",
    "\n",
    "# Calcular la transformada de Fourier\n",
    "F = fourier_transform(f, t, omega)\n",
    "\n",
    "F_simplified = simplify(F)\n",
    "\n",
    "print(\"The Fourier transform of  f(t) is ---->\", latex(F_simplified))"
   ]
  },
  {
   "cell_type": "markdown",
   "metadata": {},
   "source": [
    "$$\n",
    "\\frac{\\sqrt{2} \\mathcal{F}_{t}\\left[e^{- \\frac{t^{2}}{2 \\tau^{2}}}\\right]\\left(\\omega\\right)}{2 \\sqrt{\\pi} \\tau}\n",
    "$$"
   ]
  },
  {
   "cell_type": "code",
   "execution_count": 35,
   "metadata": {},
   "outputs": [
    {
     "name": "stdout",
     "output_type": "stream",
     "text": [
      "Laplace transform of  f(t):\n",
      "  1   \n",
      "──────\n",
      "-a + s\n"
     ]
    }
   ],
   "source": [
    "## (8) \n",
    "\n",
    "\n",
    "t, s, a = symbols('t s a', real=True)\n",
    "\n",
    "# function f(t)\n",
    "f = exp(a * t)\n",
    "\n",
    "# calculate the transform\n",
    "F = laplace_transform(f, t, s)\n",
    "\n",
    "\n",
    "print(\"Laplace transform of  f(t):\")\n",
    "sp.pprint(F[0])  "
   ]
  },
  {
   "cell_type": "code",
   "execution_count": null,
   "metadata": {},
   "outputs": [
    {
     "name": "stdout",
     "output_type": "stream",
     "text": [
      "Path integral I is \n",
      "32/3\n"
     ]
    }
   ],
   "source": [
    "# (9)\n",
    "u = symbols('u')\n",
    "\n",
    "# Define the parameterization of the curve\n",
    "x = 2 * u**2 + u + 1\n",
    "y = 1 + u**2\n",
    "\n",
    "# Define the vector field components\n",
    "a_x = x + y  \n",
    "a_y = y - x \n",
    "\n",
    "# Compute the differentials dx and dy\n",
    "dx = diff(x, u)\n",
    "dy = diff(y, u)\n",
    "\n",
    "# Compute the integrand: a · dr = a_x * dx + a_y * dy\n",
    "integrand = a_x * dx + a_y * dy\n",
    "\n",
    "\n",
    "u_start_solutions = solve([x - 1, y - 1], u)  # Solve for u at (1, 1)\n",
    "u_end_solutions = solve([x - 4, y - 2], u)    # Solve for u at (4, 2)\n",
    "\n",
    "# Extract the real solutions for u\n",
    "u_start = [sol[0] for sol in u_start_solutions if sol[0].is_real][0]\n",
    "u_end = [sol[0] for sol in u_end_solutions if sol[0].is_real][0]\n",
    "\n",
    "# Compute the integral\n",
    "I = sp.integrate(integrand, (u, u_start, u_end))\n",
    "\n",
    "# Simplify the result\n",
    "I_simplified = sp.simplify(I)\n",
    "\n",
    "# Display the result\n",
    "print(\"Path integral I is \")\n",
    "sp.pprint(I_simplified)"
   ]
  },
  {
   "cell_type": "code",
   "execution_count": 36,
   "metadata": {},
   "outputs": [
    {
     "name": "stdout",
     "output_type": "stream",
     "text": [
      "the solution is \n",
      "            2    \n",
      "           x     \n",
      "           ──    \n",
      "           2     \n",
      "y(x) = C₁⋅ℯ   - 1\n"
     ]
    }
   ],
   "source": [
    "# DIFFERENTIAL EQUATION\n",
    "# (1)\n",
    "\n",
    "x = symbols('x')\n",
    "y = Function('y')(x)\n",
    "\n",
    "eq = Eq(sp.diff(y, x), x + x * y)\n",
    "\n",
    "# solving the DE\n",
    "sol = dsolve(eq, y,hint='separable')\n",
    "\n",
    "# Mostrar la solución\n",
    "print(\"the solution is \")\n",
    "sp.pprint(sol)\n"
   ]
  },
  {
   "cell_type": "code",
   "execution_count": 37,
   "metadata": {},
   "outputs": [
    {
     "data": {
      "text/latex": [
       "$\\displaystyle y{\\left(x \\right)} = \\frac{C_{1}}{x} - \\frac{3 x}{2}$"
      ],
      "text/plain": [
       "Eq(y(x), C1/x - 3*x/2)"
      ]
     },
     "execution_count": 37,
     "metadata": {},
     "output_type": "execute_result"
    }
   ],
   "source": [
    "# (2) \n",
    "\n",
    "y_func = Function('y')(x)\n",
    "\n",
    "# ODE\n",
    "ode = Eq(x *Derivative(y_func, x) + 3*x + y_func, 0)\n",
    "\n",
    "# solve\n",
    "sol = dsolve(ode, y_func,hint = '1st_exact')\n",
    "\n",
    "\n",
    "sol\n"
   ]
  },
  {
   "cell_type": "code",
   "execution_count": 38,
   "metadata": {},
   "outputs": [
    {
     "data": {
      "text/latex": [
       "$\\displaystyle y{\\left(x \\right)} = C_{1} e^{- x^{2}} + 2$"
      ],
      "text/plain": [
       "Eq(y(x), C1*exp(-x**2) + 2)"
      ]
     },
     "execution_count": 38,
     "metadata": {},
     "output_type": "execute_result"
    }
   ],
   "source": [
    "# (3)\n",
    "\n",
    "ode2 = Eq(Derivative(y_func, x) + 2*x*y -4*x, 0)\n",
    "\n",
    "sol2 = dsolve(ode2, y_func)\n",
    "\n",
    "sol2\n",
    "\n"
   ]
  },
  {
   "cell_type": "code",
   "execution_count": 39,
   "metadata": {},
   "outputs": [
    {
     "data": {
      "text/plain": [
       "'\\\\left[ y{\\\\left(x \\\\right)} = x \\\\left(\\\\pi - \\\\operatorname{asin}{\\\\left(C_{1} x \\\\right)}\\\\right), \\\\  y{\\\\left(x \\\\right)} = x \\\\operatorname{asin}{\\\\left(C_{1} x \\\\right)}\\\\right]'"
      ]
     },
     "execution_count": 39,
     "metadata": {},
     "output_type": "execute_result"
    }
   ],
   "source": [
    "from sympy import symbols, Function, tan, Derivative, dsolve, Eq\n",
    "\n",
    "# Definir las variables\n",
    "x = symbols('x')\n",
    "y_func = Function('y')(x)\n",
    "\n",
    "# Definir la ecuación diferencial\n",
    "ode3 = Eq(Derivative(y_func, x), y_func/x + tan(y_func/x))\n",
    "\n",
    "# Resolver la ecuación diferencial\n",
    "sol3 = dsolve(ode3, y_func,hint = '1st_homogeneous_coeff_best')\n",
    "\n",
    "# Mostrar la solución\n",
    "latex(sol3)\n"
   ]
  },
  {
   "cell_type": "markdown",
   "metadata": {},
   "source": [
    "## Solution\n",
    "\n",
    "$$\n",
    "\\left[ y{\\left(x \\right)} = x \\left(\\\\pi - \\operatorname{asin}{\\left(C_{1} x \\right)}\\right), \\\\  y{\\left(x \\right)} = x \\operatorname{asin}{\\left(C_{1} x \\right)}\\right]\n",
    "$$"
   ]
  },
  {
   "cell_type": "code",
   "execution_count": 40,
   "metadata": {},
   "outputs": [
    {
     "name": "stdout",
     "output_type": "stream",
     "text": [
      "\\left[ y{\\left(x \\right)} = \\sqrt[3]{- \\frac{1}{x^{3} \\left(C_{1} + 6 x\\right)}}, \\  y{\\left(x \\right)} = \\frac{\\sqrt[3]{- \\frac{1}{x^{3} \\left(C_{1} + 6 x\\right)}} \\left(-1 - \\sqrt{3} i\\right)}{2}, \\  y{\\left(x \\right)} = \\frac{\\sqrt[3]{- \\frac{1}{x^{3} \\left(C_{1} + 6 x\\right)}} \\left(-1 + \\sqrt{3} i\\right)}{2}\\right]\n"
     ]
    }
   ],
   "source": [
    "\n",
    "# (4) Definir la ecuación diferencial\n",
    "ode4 = Eq(Derivative(y_func, x) + y/x, 2*x**3 *y**4)\n",
    "\n",
    "# Resolver la ecuación diferencial\n",
    "sol4 = dsolve(ode4, y_func,hint = 'Bernoulli')\n",
    "\n",
    "# Mostrar la solución\n",
    "print(latex(sol4))\n"
   ]
  },
  {
   "cell_type": "markdown",
   "metadata": {},
   "source": [
    "## solution\n",
    "\n",
    "$$\n",
    "\\left[ y{\\left(x \\right)} = \\sqrt[3]{- \\frac{1}{x^{3} \\left(C_{1} + 6 x\\right)}}, \\  y{\\left(x \\right)} = \\frac{\\sqrt[3]{- \\frac{1}{x^{3} \\left(C_{1} + 6 x\\right)}} \\left(-1 - \\sqrt{3} i\\right)}{2}, \\  y{\\left(x \\right)} = \\frac{\\sqrt[3]{- \\frac{1}{x^{3} \\left(C_{1} + 6 x\\right)}} \\left(-1 + \\sqrt{3} i\\right)}{2}\\right]\n",
    "$$"
   ]
  },
  {
   "cell_type": "code",
   "execution_count": null,
   "metadata": {},
   "outputs": [
    {
     "name": "stdout",
     "output_type": "stream",
     "text": [
      "Solución de la primera ecuación:\n",
      "       ⎛       ⎛     x⎞⎞  x\n",
      "y(x) = ⎜C₁ + x⋅⎜C₂ + ─⎟⎟⋅ℯ \n",
      "       ⎝       ⎝     2⎠⎠   \n"
     ]
    }
   ],
   "source": [
    "## (6)\n",
    "\n",
    "\n",
    "# Definir la ecuación diferencial\n",
    "eq1 = Eq(diff(y, x, x) - 2 * diff(y, x) + y, exp(x))\n",
    "\n",
    "# Resolver la ecuación diferencial\n",
    "sol1 = dsolve(eq1, y)\n",
    "\n",
    "print(\"Solución de la primera ecuación:\")\n",
    "pprint(sol1)"
   ]
  },
  {
   "cell_type": "code",
   "execution_count": 41,
   "metadata": {},
   "outputs": [
    {
     "name": "stdout",
     "output_type": "stream",
     "text": [
      "\n",
      "Solución de la segunda ecuación:\n",
      "       C₁       2\n",
      "y(x) = ── + C₂⋅x \n",
      "        2        \n",
      "       x         \n"
     ]
    }
   ],
   "source": [
    "# Definir la ecuación diferencial\n",
    "eq2 = Eq(x**2 * diff(y, x, x) + x * diff(y, x) - 4 * y, 0)\n",
    "\n",
    "# Resolver la ecuación diferencial\n",
    "sol2 = dsolve(eq2, y)\n",
    "\n",
    "\n",
    "print(\"\\nSolución de la segunda ecuación:\")\n",
    "sp.pprint(sol2)"
   ]
  },
  {
   "cell_type": "code",
   "execution_count": 42,
   "metadata": {},
   "outputs": [
    {
     "data": {
      "text/latex": [
       "$\\displaystyle y{\\left(x \\right)} = \\left(\\frac{- e^{\\pi} \\int\\limits^{0} e^{- x} \\csc{\\left(x \\right)}\\, dx + e^{\\pi} \\int\\limits^{\\frac{\\pi}{2}} e^{- x} \\csc{\\left(x \\right)}\\, dx + e^{\\pi} \\int\\limits^{0} e^{x} \\csc{\\left(x \\right)}\\, dx - \\int\\limits^{\\frac{\\pi}{2}} e^{x} \\csc{\\left(x \\right)}\\, dx}{-2 + 2 e^{\\pi}} - \\frac{\\int e^{x} \\csc{\\left(x \\right)}\\, dx}{2}\\right) e^{- x} + \\left(\\frac{\\int\\limits^{0} e^{- x} \\csc{\\left(x \\right)}\\, dx - e^{\\pi} \\int\\limits^{\\frac{\\pi}{2}} e^{- x} \\csc{\\left(x \\right)}\\, dx - \\int\\limits^{0} e^{x} \\csc{\\left(x \\right)}\\, dx + \\int\\limits^{\\frac{\\pi}{2}} e^{x} \\csc{\\left(x \\right)}\\, dx}{-2 + 2 e^{\\pi}} + \\frac{\\int e^{- x} \\csc{\\left(x \\right)}\\, dx}{2}\\right) e^{x}$"
      ],
      "text/plain": [
       "Eq(y(x), ((-exp(pi)*Integral(exp(-x)*csc(x), (x, 0)) + exp(pi)*Integral(exp(-x)*csc(x), (x, pi/2)) + exp(pi)*Integral(exp(x)*csc(x), (x, 0)) - Integral(exp(x)*csc(x), (x, pi/2)))/(-2 + 2*exp(pi)) - Integral(exp(x)*csc(x), x)/2)*exp(-x) + ((Integral(exp(-x)*csc(x), (x, 0)) - exp(pi)*Integral(exp(-x)*csc(x), (x, pi/2)) - Integral(exp(x)*csc(x), (x, 0)) + Integral(exp(x)*csc(x), (x, pi/2)))/(-2 + 2*exp(pi)) + Integral(exp(-x)*csc(x), x)/2)*exp(x))"
      ]
     },
     "execution_count": 42,
     "metadata": {},
     "output_type": "execute_result"
    }
   ],
   "source": [
    "## (7)\n",
    "\n",
    "# Definir la ecuación diferencial\n",
    "ode = Eq(y.diff(x, x) - y, csc(x))\n",
    "\n",
    "# Definir las condiciones iniciales\n",
    "initial_conditions = {y.subs(x, 0): 0, y.subs(x, pi/2): 0}\n",
    "\n",
    "\n",
    "solution = dsolve(ode, y, ics=initial_conditions)\n",
    "\n",
    "solution\n"
   ]
  },
  {
   "cell_type": "code",
   "execution_count": 48,
   "metadata": {},
   "outputs": [
    {
     "data": {
      "image/png": "[encoded data removed]",
      "text/plain": [
       "<Figure size 640x480 with 1 Axes>"
      ]
     },
     "metadata": {},
     "output_type": "display_data"
    }
   ],
   "source": [
    "from scipy.integrate import solve_ivp\n",
    "import matplotlib.pyplot as plt\n",
    "\n",
    "# Definir la ecuación diferencial\n",
    "def ode_system(t, y):\n",
    "    y1, y2 = y\n",
    "    dydt = [y2, -y1**3 - y2 - 2*y1]\n",
    "    return dydt\n",
    "\n",
    "# Condiciones iniciales\n",
    "y0 = [1, 0]  # [y(0), y'(0)] \n",
    "t_span = (0.1, 10)  # Intervalo de solución\n",
    "\n",
    "# Resolver la ODE\n",
    "sol = solve_ivp(ode_system, t_span, y0, t_eval=np.linspace(0.1, 10, 100))\n",
    "\n",
    "# Graficar la solución\n",
    "plt.plot(sol.t, sol.y[0], label='y(x)')\n",
    "plt.xlabel('x')\n",
    "plt.ylabel('y')\n",
    "plt.title('Solución numérica de la ODE')\n",
    "plt.legend()\n",
    "plt.show()\n"
   ]
  },
  {
   "cell_type": "markdown",
   "metadata": {},
   "source": [
    "\n",
    "## Singularidades Regulares y Esenciales\n",
    "\n",
    "### Las singularidades son puntos en los cuales una función deja de ser analítica, es decir, no es continua o derivable. Dependiendo de la naturaleza de la singularidad, se clasifican en singularidades regulares y singularidades esenciales: \n",
    "\n",
    "### Singularidad Regular : Una singularidad regular ocurre en un punto donde una solución de una ecuación diferencial puede extenderse de manera analítica, es decir, la solución puede ser representada por una serie de Laurent (expansión en serie de potencias) en ese punto, con un número finito de términos negativos en el desarrollo.\n",
    "\n",
    "### Singularidad Esencial : Es mucho más \"grave\". En este tipo de singularidad, la función no puede ser expresada de manera continua o analítica con una expansión en serie de potencias, ni siquiera con una serie de Laurent que contenga solo un número finito de términos negativos. En lugar de una expansión regular, la función tiene un comportamiento muy irregular cerca del punto de singularidad.\n",
    "\n",
    "\n",
    "\n"
   ]
  },
  {
   "cell_type": "markdown",
   "metadata": {},
   "source": [
    "### Regular and Essential Singularities\n",
    "\n",
    "### Singularities are points at which a function ceases to be analytic, i.e., it is not continuous or derivable. Depending on the nature of the singularity, they are classified into regular singularities and essential singularities: \n",
    "\n",
    "### Regular Singularity : A regular singularity occurs at a point where a solution of a differential equation can be extended analytically, i.e., the solution can be represented by a Laurent series (power series expansion) at that point, with a finite number of negative terms in the development.\n",
    "\n",
    "### Essential Singularity : It is much more “severe”. In this type of singularity, the function cannot be expressed continuously or analytically with a power series expansion, or even with a Laurent series containing only a finite number of negative terms. Instead of a regular expansion, the function has a very irregular behavior near the singularity point.\n",
    "\n"
   ]
  }
 ],
 "metadata": {
  "kernelspec": {
   "display_name": "cosmodesi",
   "language": "python",
   "name": "cosmodesi"
  },
  "language_info": {
   "codemirror_mode": {
    "name": "ipython",
    "version": 3
   },
   "file_extension": ".py",
   "mimetype": "text/x-python",
   "name": "python",
   "nbconvert_exporter": "python",
   "pygments_lexer": "ipython3",
   "version": "3.10.12"
  }
 },
 "nbformat": 4,
 "nbformat_minor": 2
}
